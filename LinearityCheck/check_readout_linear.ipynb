{
 "cells": [
  {
   "cell_type": "markdown",
   "metadata": {},
   "source": [
    "## Importing libraries ##"
   ]
  },
  {
   "cell_type": "code",
   "execution_count": 1,
   "metadata": {},
   "outputs": [],
   "source": [
    "import pandas as pd\n",
    "import numpy as np\n",
    "import scipy.signal as signal\n",
    "from scipy.optimize import curve_fit\n",
    "from scipy.special import factorial\n",
    "from landaupy import landau\n",
    "from scipy.special import factorial\n",
    "import matplotlib.pyplot as plt\n",
    "from matplotlib.ticker import NullFormatter\n",
    "from mpl_toolkits.axes_grid1.inset_locator import inset_axes\n",
    "import h5py\n",
    "import array\n",
    "from collections import Counter\n",
    "import daw_readout\n",
    "from matplotlib.colors import LogNorm\n",
    "from tqdm import trange\n",
    "from tqdm import tqdm\n",
    "import time  \n",
    "import os \n",
    "\n",
    "np.set_printoptions(suppress=True) # to make tiny values appear as zero\n",
    "np.set_printoptions(precision=4)   # number of digits in floats (or longfloats)\n",
    "#np.set_printoptions(formatter={'float_kind':\"{:.2f}\"})\n",
    "#np.set_printoptions()\n",
    "\n",
    "%matplotlib inline\n",
    "\n",
    "# Set formats\n",
    "DARK=False\n",
    "if(DARK==False):\n",
    "    form='.k'\n",
    "    plt.style.use(['default']) \n",
    "    fontcolor='k'\n",
    "else:\n",
    "    form='.w'\n",
    "    plt.style.use(['dark_background'])\n",
    "    fontcolor='w'\n",
    "\n",
    "\n",
    "SMALL_SIZE = 18\n",
    "MEDIUM_SIZE = 20\n",
    "BIGGER_SIZE = 22\n",
    "\n",
    "plt.rc('font', size=MEDIUM_SIZE)          # controls default text sizes\n",
    "plt.rc('axes', titlesize=MEDIUM_SIZE)     # fontsize of the axes title\n",
    "plt.rc('axes', labelsize=BIGGER_SIZE)    # fontsize of the x and y labels\n",
    "plt.rc('xtick', labelsize=SMALL_SIZE)    # fontsize of the tick labels\n",
    "plt.rc('ytick', labelsize=SMALL_SIZE)    # fontsize of the tick labels\n",
    "plt.rc('legend', fontsize=SMALL_SIZE)    # legend fontsize\n",
    "plt.rc('figure', titlesize=BIGGER_SIZE)  # fontsize of the figure title\n",
    "\n",
    "params = {\n",
    "    'font.family': 'serif',\n",
    "    'font.size' : 14, 'axes.titlesize' : 14, 'axes.labelsize' : 14, 'axes.linewidth' : 1,\n",
    "    # ticks\n",
    "    'xtick.labelsize' : 14, 'ytick.labelsize' : 14, 'xtick.major.size' : 8, 'xtick.minor.size' : 4,\n",
    "    'ytick.major.size' : 8, 'ytick.minor.size' : 4, 'xtick.major.width' : 1, 'xtick.minor.width' : 1,\n",
    "    'ytick.major.width' : 1, 'ytick.minor.width' : 1, 'xtick.direction' : 'in', 'ytick.direction' : 'in',\n",
    "    # markers\n",
    "    'lines.markersize' : 4, 'lines.markeredgewidth' : 1, 'errorbar.capsize' : 5, 'lines.linewidth' : 1.5,\n",
    "    #'lines.linestyle' : None, 'lines.marker' : None,\n",
    "    'savefig.bbox' : 'tight', 'legend.fontsize' : 14,\n",
    "    'axes.labelsize': 14, 'axes.titlesize':16, 'xtick.labelsize':14, 'ytick.labelsize':14,\n",
    "    'backend': 'Agg', 'mathtext.fontset': 'dejavuserif',\n",
    "    'figure.facecolor':'w',\n",
    "    #pad\n",
    "    'axes.labelpad':8,\n",
    "    # ticks\n",
    "    'xtick.major.pad': 7,   'xtick.minor.pad': 7,   \n",
    "    'ytick.major.pad': 4, 'ytick.minor.pad': 4,\n",
    "}\n",
    "plt.rcParams.update(params)"
   ]
  },
  {
   "cell_type": "markdown",
   "metadata": {},
   "source": [
    "### Load, process, examine and filter data"
   ]
  },
  {
   "cell_type": "code",
   "execution_count": 142,
   "metadata": {},
   "outputs": [],
   "source": [
    "Date = 20240920 # YYYYMMDD\n",
    "V = 1.190 # V\n",
    "offset = 900 # mV\n",
    "T = 100 # ns\n",
    "PDiv = 0 # dB"
   ]
  },
  {
   "cell_type": "code",
   "execution_count": 143,
   "metadata": {},
   "outputs": [],
   "source": [
    "name = \"lv2415_anode_lv2414_dual_20240920_LED_1.190V_900mv_100ns_attenuator_9DB_400_ratio_run0\"\n",
    "\n",
    "#name = \"lv2415_anode_lv2414_dual_20240904_LED_2.300V_900mv_10ns_400_ratio_run0\"\n",
    "#name = \"lv2415_anode_lv2414_dual_20240904_LED_2.300V_900mv_10ns_attenuator_9DB_400_ratio_run0\"\n",
    "\n",
    "#name = \"lv2415_anode_lv2414_dual_\"+str(Date)+\"_LED_\"+str(V)+\"V_\"+str(T)+\"ns_attenuator_\"+str(PDiv)+\"DB_400_ratio_run0\" "
   ]
  },
  {
   "cell_type": "code",
   "execution_count": 144,
   "metadata": {},
   "outputs": [
    {
     "name": "stderr",
     "output_type": "stream",
     "text": [
      "0it [00:00, ?it/s]"
     ]
    },
    {
     "name": "stderr",
     "output_type": "stream",
     "text": [
      "/tmp/ipykernel_321402/4277322390.py:42: RuntimeWarning: divide by zero encountered in scalar divide\n",
      "  'AtH':area/height,\n",
      "382506it [00:04, 88181.92it/s]\n"
     ]
    },
    {
     "name": "stdout",
     "output_type": "stream",
     "text": [
      "CH0 Total Events: 127502\n",
      "CH1 Total Events: 127502\n"
     ]
    },
    {
     "name": "stderr",
     "output_type": "stream",
     "text": [
      "100%|██████████| 382506/382506 [00:04<00:00, 89146.59it/s]\n",
      "100%|██████████| 127502/127502 [00:00<00:00, 4056881.29it/s]\n"
     ]
    }
   ],
   "source": [
    "path = \"/mnt/data/PMT/R8520_406/\"   ##### file path\n",
    "\n",
    "filesnum = 1 ### number of files\n",
    "\n",
    "hdf5_filename = path + name + \".h5\"\n",
    "feather_filename = path + name + \".feather\"\n",
    "filename = {}\n",
    "filepath = {}\n",
    "dataload = {}\n",
    "for i in range(filesnum):\n",
    "    filename[i] = name + \"_raw_b0_seg\" + str(i) +\".bin\"\n",
    "    filepath[i] = path + filename[i]\n",
    "    dataload[i] = daw_readout.DAWDemoWaveParser(filepath[i])\n",
    "\n",
    "#name_3 = 'run_gamma_$(date_raw_b0_seg0.bin'\n",
    "\n",
    "### Background data\n",
    "#data0 = daw_readout.DAWDemoWaveParser([path+name[0]])#### background data\n",
    "\n",
    "data = []\n",
    "\n",
    "calbl = 10 ### Length used to calculate baseline\n",
    "calstart = 95### Index started to calculate area\n",
    "callen= 85 ### Length used to calculate area\n",
    "\n",
    "for num in range(filesnum):\n",
    "# Process the waveforms and store the data in lists\n",
    "    i = 0\n",
    "    for wave in tqdm(dataload[num]):\n",
    "        baseline2 = np.sum(wave.Waveform[:calbl]) / calbl\n",
    "        area = (baseline2 * callen - np.sum(wave.Waveform[calstart : calstart+callen]))\n",
    "        height = (baseline2 - np.min(wave.Waveform[calstart : calstart+callen]))\n",
    "        data.append({\n",
    "            'Files': num,   ####file name/number\n",
    "            'EventID': i,   ####index in file\n",
    "            'Channel': wave.Channel, #### PMT Channel\n",
    "            'Timestamp': wave.Timestamp, \n",
    "            'Baseline': wave.Baseline,\n",
    "            'Baseline2': baseline2,\n",
    "            'Height': height,\n",
    "            'Area': area,\n",
    "            'AtH':area/height,\n",
    "            'Waveform':wave.Waveform\n",
    "            })\n",
    "        i += 1\n",
    "\n",
    "# Convert lists to pandas DataFrames\n",
    "df = pd.DataFrame(data)\n",
    "\n",
    "# Print the total number of events for each channel\n",
    "print(\"CH0 Total Events:\",len(df.EventID[df.Channel==0]))\n",
    "print(\"CH1 Total Events:\",len(df.EventID[df.Channel==1]))\n",
    "\n",
    "ch1_area_0 = []\n",
    "ch0_area_0 = []\n",
    "ch2_area_0 = []\n",
    "\n",
    "ch0_area = []\n",
    "ch1_area = []\n",
    "ch2_area = []\n",
    "\n",
    "area_ratio = []\n",
    "\n",
    "for i in tqdm(range(0,len(df.Area))):\n",
    "    if df.Channel[i] == 1:\n",
    "        ch1_area.append(df.Area[i]/96.99)\n",
    "    elif df.Channel[i] == 0:\n",
    "        ch0_area.append(df.Area[i]/77.79)\n",
    "    elif df.Channel[i] == 2:\n",
    "        ch2_area.append(-df.Area[i]/77.79)\n",
    "\n",
    "\"\"\"\n",
    "for i in tqdm(range(0,len(df.Area))):\n",
    "    if df.Channel[i] == 1:\n",
    "        ch1_area_0.append(df.Area[i])\n",
    "    elif df.Channel[i] == 0:\n",
    "        ch0_area_0.append(df.Area[i])\n",
    "\n",
    "for i in tqdm(range(0,len(ch0_area_0))):\n",
    "    if ch1_area_0[i] > 60:\n",
    "        ch0_area.append(ch0_area_0[i])\n",
    "        ch1_area.append(ch1_area_0[i])\n",
    "\"\"\"\n",
    "\n",
    "for i in tqdm(range(0,len(ch0_area))):\n",
    "    if ch1_area[i] != 0:\n",
    "        area_ratio.append(ch0_area[i]/ch1_area[i])\n",
    "    else:\n",
    "        area_ratio.append(0)"
   ]
  },
  {
   "cell_type": "code",
   "execution_count": 145,
   "metadata": {},
   "outputs": [
    {
     "name": "stdout",
     "output_type": "stream",
     "text": [
      "1.19 100 3113.03 10.35 278.76 2.16 0\n"
     ]
    }
   ],
   "source": [
    "# Dynode ratio\n",
    "print(V,T,round(np.mean(ch0_area),2),round(np.std(ch0_area),2),round(np.mean(ch2_area),2),round(np.std(ch2_area),2),PDiv)"
   ]
  },
  {
   "cell_type": "code",
   "execution_count": 24,
   "metadata": {},
   "outputs": [
    {
     "name": "stdout",
     "output_type": "stream",
     "text": [
      "1.075 100 31.63 6.58 1110.65 32.38 0\n"
     ]
    }
   ],
   "source": [
    "# Area ratio\n",
    "print(V,T,round(np.mean(ch0_area),2),round(np.std(ch0_area),2),round(np.mean(ch1_area),2),round(np.std(ch1_area),2),PDiv)"
   ]
  },
  {
   "cell_type": "code",
   "execution_count": 14,
   "metadata": {},
   "outputs": [
    {
     "data": {
      "text/html": [
       "<div>\n",
       "<style scoped>\n",
       "    .dataframe tbody tr th:only-of-type {\n",
       "        vertical-align: middle;\n",
       "    }\n",
       "\n",
       "    .dataframe tbody tr th {\n",
       "        vertical-align: top;\n",
       "    }\n",
       "\n",
       "    .dataframe thead th {\n",
       "        text-align: right;\n",
       "    }\n",
       "</style>\n",
       "<table border=\"1\" class=\"dataframe\">\n",
       "  <thead>\n",
       "    <tr style=\"text-align: right;\">\n",
       "      <th></th>\n",
       "    </tr>\n",
       "  </thead>\n",
       "  <tbody>\n",
       "  </tbody>\n",
       "</table>\n",
       "</div>"
      ],
      "text/plain": [
       "Empty DataFrame\n",
       "Columns: []\n",
       "Index: []"
      ]
     },
     "execution_count": 14,
     "metadata": {},
     "output_type": "execute_result"
    }
   ],
   "source": [
    "df[:]"
   ]
  },
  {
   "cell_type": "code",
   "execution_count": null,
   "metadata": {},
   "outputs": [],
   "source": [
    "plt.figure(figsize=(15,4))\n",
    "plt.title('Waveforms')\n",
    "plt.xlabel('$t$ [4 ns]')\n",
    "plt.ylabel('Amplitude [adc]')\n",
    "plt.xlim(90,170)\n",
    "plt.ylim(0,16000)\n",
    "for i in tqdm(range (0,200)):\n",
    "    #plt.step(np.linspace(0,150,150),df.Baseline[i]-df.Waveform[i])\n",
    "    plt.plot(df.Baseline[i]-df.Waveform[i])\n",
    "plt.legend()\n",
    "plt.show()"
   ]
  },
  {
   "cell_type": "markdown",
   "metadata": {},
   "source": [
    "### Scatter plots"
   ]
  },
  {
   "cell_type": "code",
   "execution_count": null,
   "metadata": {},
   "outputs": [],
   "source": [
    "bin1 = np.linspace(np.min(ch1_area), np.max(ch1_area),200) ###x Height\n",
    "bin2 = np.linspace(np.min(ch0_area), np.max(ch0_area), 200)###y Area\n",
    "bins = [bin1,bin2]\n",
    "\n",
    "H, xedges, yedges = np.histogram2d(ch1_area,ch0_area,bins)\n",
    "H = np.rot90(H) \n",
    "H = np.flipud(H)\n",
    "Hmasked = np.ma.masked_where(H==0,H)\n",
    "\n",
    "# definitions for the axes\n",
    "left, width = 1, 1\n",
    "bottom, height = 1, 1\n",
    "bottom_h = left_h = left + width + 0.025\n",
    "\n",
    "rect_scatter = [left, bottom, width, height]\n",
    "rect_histx = [left, bottom_h, width, 0.2]\n",
    "rect_histy = [left_h, bottom, 0.2, height]\n",
    "\n",
    "# start with a rectangular Figure\n",
    "fig = plt.figure(1, figsize=(8, 8))\n",
    "\n",
    "axScatter = plt.axes(rect_scatter)\n",
    "axHistx = plt.axes(rect_histx)\n",
    "axHisty = plt.axes(rect_histy)\n",
    "\n",
    "axScatter.pcolormesh(xedges,yedges,Hmasked,norm=LogNorm())\n",
    "axScatter.set_xlim(min(ch1_area),max(ch1_area))\n",
    "axScatter.set_ylim(min(ch0_area),max(ch0_area))\n",
    "axScatter.set_xlabel('CH1 area [PE]')\n",
    "axScatter.set_ylabel('CH0 area [PE]')\n",
    "\n",
    "axHistx.hist(ch1_area,bins=200,histtype='step',linewidth=3,color='darkblue')\n",
    "axHistx.set_xlim(min(ch1_area),max(ch1_area))\n",
    "axHistx.set_xticks([])\n",
    "axHistx.set_ylabel('Counts')\n",
    "\n",
    "axHisty.hist(ch0_area,bins=200,orientation='horizontal',histtype='step',linewidth=3,color='darkblue')\n",
    "axHisty.set_ylim(min(ch0_area),max(ch0_area))\n",
    "axHisty.set_yticks([])\n",
    "axHisty.set_xlabel('Counts')\n",
    "\n",
    "plt.suptitle('Pulse area with and without polariser, '+str(V)+' V, '+str(T)+' ns',x=1.55,y=2.275)\n",
    "\n",
    "plt.savefig('./img/Pulse area with and without polariser, '+str(V)+' V, '+str(T)+'ns.png',dpi=300)\n",
    "plt.show()"
   ]
  },
  {
   "cell_type": "code",
   "execution_count": null,
   "metadata": {},
   "outputs": [],
   "source": [
    "bin3 = np.linspace(0,200,200) ###x Height\n",
    "bin4 = np.linspace(np.min(ch0_area), np.max(ch0_area), 200)###y Area\n",
    "bin2s = [bin4,bin3]\n",
    "\n",
    "filtered_area_ratio = []\n",
    "filtered_ch0_area = []\n",
    "for i in tqdm(range(0,len(area_ratio))):\n",
    "    if area_ratio[i]!=0:\n",
    "        filtered_area_ratio.append(area_ratio[i])\n",
    "        filtered_ch0_area.append(ch0_area[i])\n",
    "\n",
    "area_average = np.average(filtered_area_ratio)\n",
    "\n",
    "H, xedges, yedges = np.histogram2d(filtered_ch0_area,filtered_area_ratio,bin2s)\n",
    "H = np.rot90(H) \n",
    "H = np.flipud(H)\n",
    "Hmasked = np.ma.masked_where(H==0,H)\\\n",
    "\n",
    "H_sum = []\n",
    "\n",
    "for i in range(0,len(H)):\n",
    "    H_sum.append(np.sum(H[i][:]))\n",
    "\n",
    "area_frequent = np.where(H_sum == np.max(H_sum))[0][0]\n",
    "\n",
    "# definitions for the axes\n",
    "left, width = 1, 1\n",
    "bottom, height = 1, 1\n",
    "bottom_h = left_h = left + width + 0.025\n",
    "\n",
    "rect_scatter = [left, bottom, width, height]\n",
    "rect_histx = [left, bottom_h, width, 0.2]\n",
    "rect_histy = [left_h, bottom, 0.2, height]\n",
    "\n",
    "# start with a rectangular Figure\n",
    "plt.figure(1, figsize=(8, 8))\n",
    "\n",
    "axScatter = plt.axes(rect_scatter)\n",
    "axHistx = plt.axes(rect_histx)\n",
    "axHisty = plt.axes(rect_histy)\n",
    "\n",
    "axScatter.pcolormesh(xedges,yedges,Hmasked,norm=LogNorm())\n",
    "axScatter.set_xlabel('CH0 area [PE]')\n",
    "axScatter.set_ylabel('Area ratio CH0/CH1')\n",
    "axScatter.set_xlim(min(ch0_area),max(ch0_area))\n",
    "axScatter.hlines(y=area_average,xmin=np.min(ch0_area),xmax=np.max(ch0_area),\n",
    "           linestyle='--',color='orange',\n",
    "           label='average area ratio = '+str(round(area_average,1)))\n",
    "axScatter.hlines(y=area_frequent,xmin=np.min(ch0_area),xmax=np.max(ch0_area),\n",
    "           linestyle='--',color='red',\n",
    "           label='most frequent area ratio = '+str(area_frequent))\n",
    "axScatter.legend()\n",
    "\n",
    "axHistx.hist(filtered_ch0_area,bins=200,histtype='step',linewidth=3,color='darkblue')\n",
    "axHistx.set_xlim(min(ch0_area),max(ch0_area))\n",
    "axHistx.set_xticks([])\n",
    "axHistx.set_ylabel('Counts')\n",
    "\n",
    "axHisty.hist(area_ratio,bins=200,range=(0,200),orientation='horizontal',histtype='step',linewidth=3,color='darkblue')\n",
    "axHisty.set_ylim(0,200)\n",
    "axHisty.set_yticks([])\n",
    "axHisty.set_xlabel('Counts')\n",
    "\n",
    "plt.suptitle('Pulse area ratio against area without polariser, '+str(V)+' V, '+str(T)+' ns',x=1.55,y=2.275)\n",
    "\n",
    "plt.savefig('./img/Pulse area ratio with and without polariser, '+str(V)+' V, '+str(T)+'ns.png',dpi=300)\n",
    "plt.show()"
   ]
  },
  {
   "cell_type": "markdown",
   "metadata": {},
   "source": [
    "### CH1 Histogram - P"
   ]
  },
  {
   "cell_type": "code",
   "execution_count": null,
   "metadata": {},
   "outputs": [],
   "source": [
    "# Use numpy.hist() function to calculate histogram data\n",
    "ch1_hist,ch1_bin_edges = np.histogram(ch1_area,bins=200,range=(0,max(ch1_area)))\n",
    "ch1_g = ch1_hist\n",
    "ch1_x = (ch1_bin_edges[:-1] + ch1_bin_edges[1:])/2\n",
    "\n",
    "# Define non-normalised Gaussian function\n",
    "def poisson_fit(x,A,mu,x_0):\n",
    "  g = A * np.exp(-mu)*np.power(mu, (x-x_0))/factorial(x-x_0)\n",
    "  return g\n",
    "\n",
    "# Curve fit the histgram data using curve_fit()\n",
    "ch1_popt,ch1_pcov = curve_fit(poisson_fit,ch1_x,ch1_g,p0=(1E5,20,0))\n",
    "ch1_perr = np.sqrt(np.diag(ch1_pcov))\n",
    "\n",
    "# Report the parameters\n",
    "print('A =', round(ch1_popt[0],3), '+/-', round(ch1_perr[0],3))\n",
    "print('mu =', round(ch1_popt[1],3), '+/-', round(ch1_perr[1],3))\n",
    "print('x_0 =', round(ch1_popt[2],3), '+/-', round(ch1_perr[2],3))\n",
    "\n",
    "# prepare for the fitted curve\n",
    "ch1_u = np.arange(0,max(ch1_area),0.1)\n",
    "ch1_v = poisson_fit(ch1_u,ch1_popt[0],ch1_popt[1],ch1_popt[2])\n",
    "\n",
    "plt.figure(figsize=(16,9))\n",
    "plt.title('Histogram of CH1 area, '+str(V)+' V, '+str(T)+'ns, '+str(PDiv)+'dB')\n",
    "plt.xlabel('CH1 area [PE]')\n",
    "plt.ylabel('Counts')\n",
    "plt.hist(ch1_area,bins=200,color='silver',label='CH0 area')\n",
    "plt.plot(ch1_u,ch1_v,color='darkblue',linewidth=3,\n",
    "         label='Fitted curve, $\\mu$ = '+str(round(ch1_popt[1],3))+', $x_0$ = '+str(round(ch1_popt[2],3)))\n",
    "plt.legend()\n",
    "plt.savefig('./img/Histogram of CH1 area, '+str(V)+' V, '+str(T)+'ns.png',dpi=300)\n",
    "plt.show()"
   ]
  },
  {
   "cell_type": "markdown",
   "metadata": {},
   "source": [
    "### CH1 histogram - G"
   ]
  },
  {
   "cell_type": "code",
   "execution_count": null,
   "metadata": {},
   "outputs": [],
   "source": [
    "# Use numpy.hist() function to calculate histogram data\n",
    "ch1_hist,ch1_bin_edges = np.histogram(ch1_area,bins=200)\n",
    "ch1_g = ch1_hist\n",
    "ch1_x = (ch1_bin_edges[:-1] + ch1_bin_edges[1:])/2\n",
    "\n",
    "# Define non-normalised Gaussian function\n",
    "def gaussian(x,A,mu,sigma):\n",
    "  g = A * np.exp(-(x-mu)**2 / (2*sigma**2))\n",
    "  return g\n",
    "\n",
    "# Curve fit the histgram data using curve_fit()\n",
    "ch1_popt,ch1_pcov = curve_fit(gaussian,ch1_x,ch1_g,p0=(1000,(min(ch1_area)+max(ch1_area))/2,50))\n",
    "ch1_perr = np.sqrt(np.diag(ch1_pcov))\n",
    "\n",
    "# Report the parameters\n",
    "print('A =', round(ch1_popt[0],3), '+/-', round(ch1_perr[0],3))\n",
    "print('mu =', round(ch1_popt[1],3), '+/-', round(ch1_perr[1],3))\n",
    "print('sigma =', round(ch1_popt[2],3), '+/-', round(ch1_perr[2],3))\n",
    "\n",
    "# prepare for the fitted curve\n",
    "ch1_u = np.arange(min(ch1_area),max(ch1_area),0.1)\n",
    "ch1_v = round(ch1_popt[0],3) * np.exp(-(ch1_u-round(ch1_popt[1],3))**2 / (2*round(ch1_popt[2],3)**2))\n",
    "\n",
    "plt.figure(figsize=(16,9))\n",
    "plt.title('Histogram of CH1 area, '+str(V)+' V, '+str(T)+'ns, '+str(PDiv)+'dB')\n",
    "plt.xlabel('CH1 area [PE]')\n",
    "plt.ylabel('Counts')\n",
    "plt.hist(ch1_area,bins=200,color='silver',label='CH1 area')\n",
    "plt.plot(ch1_u,ch1_v,color='darkblue',linewidth=3,\n",
    "         label='Fitted curve, $\\mu$ = '+str(round(ch1_popt[1],3))+', $\\sigma$ = '+str(np.abs(round(ch1_popt[2],3))))\n",
    "plt.legend()\n",
    "plt.savefig('./img/Histogram of CH1 area, '+str(V)+' V, '+str(T)+'ns.png',dpi=300)\n",
    "plt.show()"
   ]
  },
  {
   "cell_type": "markdown",
   "metadata": {},
   "source": [
    "### CH2 Histogram - G"
   ]
  },
  {
   "cell_type": "code",
   "execution_count": null,
   "metadata": {},
   "outputs": [],
   "source": [
    "# Use numpy.hist() function to calculate histogram data\n",
    "ch2_hist,ch2_bin_edges = np.histogram(ch2_area,bins=200)\n",
    "ch2_g = ch2_hist\n",
    "ch2_x = (ch2_bin_edges[:-1] + ch2_bin_edges[1:])/2\n",
    "\n",
    "# Define non-normalised Gaussian function\n",
    "def gaussian(x,A,mu,sigma):\n",
    "  g = A * np.exp(-(x-mu)**2 / (2*sigma**2))\n",
    "  return g\n",
    "\n",
    "# Curve fit the histgram data using curve_fit()\n",
    "ch2_popt,ch2_pcov = curve_fit(gaussian,ch2_x,ch2_g,p0=(1000,(min(ch2_area)+max(ch2_area))/2,50))\n",
    "ch2_perr = np.sqrt(np.diag(ch2_pcov))\n",
    "\n",
    "# Report the parameters\n",
    "print('A =', round(ch2_popt[0],3), '+/-', round(ch2_perr[0],3))\n",
    "print('mu =', round(ch2_popt[1],3), '+/-', round(ch2_perr[1],3))\n",
    "print('sigma =', round(ch2_popt[2],3), '+/-', round(ch2_perr[2],3))\n",
    "\n",
    "# prepare for the fitted curve\n",
    "ch2_u = np.arange(min(ch2_area),max(ch2_area),0.1)\n",
    "ch2_v = round(ch2_popt[0],3) * np.exp(-(ch2_u-round(ch2_popt[1],3))**2 / (2*round(ch2_popt[2],3)**2))\n",
    "\n",
    "plt.figure(figsize=(16,9))\n",
    "plt.title('Histogram of CH2 area, '+str(V)+' V, '+str(T)+'ns, '+str(PDiv)+'dB')\n",
    "plt.xlabel('CH2 area [PE]')\n",
    "plt.ylabel('Counts')\n",
    "plt.hist(ch2_area,bins=200,color='silver',label='CH2 area')\n",
    "plt.plot(ch2_u,ch2_v,color='darkblue',linewidth=3,\n",
    "         label='Fitted curve, $\\mu$ = '+str(round(ch2_popt[1],3))+', $\\sigma$ = '+str(np.abs(round(ch2_popt[2],3))))\n",
    "plt.legend()\n",
    "#plt.savefig('./img/Histogram of CH2 area, '+str(V)+' V, '+str(T)+'ns.png',dpi=300)\n",
    "plt.show()"
   ]
  },
  {
   "cell_type": "markdown",
   "metadata": {},
   "source": [
    "### CH0 Histogram - G"
   ]
  },
  {
   "cell_type": "code",
   "execution_count": null,
   "metadata": {},
   "outputs": [],
   "source": [
    "# Use numpy.hist() function to calculate histogram data\n",
    "ch0_hist,ch0_bin_edges = np.histogram(ch0_area,bins=200)\n",
    "ch0_g = ch0_hist\n",
    "ch0_x = (ch0_bin_edges[:-1] + ch0_bin_edges[1:])/2\n",
    "\n",
    "# Define non-normalised Gaussian function\n",
    "def gaussian(x,A,mu,sigma):\n",
    "  g = A * np.exp(-(x-mu)**2 / (2*sigma**2))\n",
    "  return g\n",
    "\n",
    "# Curve fit the histgram data using curve_fit()\n",
    "ch0_popt,ch0_pcov = curve_fit(gaussian,ch0_x,ch0_g,p0=(1000,(min(ch0_area)+max(ch0_area))/2,50))\n",
    "ch0_perr = np.sqrt(np.diag(ch0_pcov))\n",
    "\n",
    "# Report the parameters\n",
    "print('A =', round(ch0_popt[0],3), '+/-', round(ch0_perr[0],3))\n",
    "print('mu =', round(ch0_popt[1],3), '+/-', round(ch0_perr[1],3))\n",
    "print('sigma =', round(ch0_popt[2],3), '+/-', round(ch0_perr[2],3))\n",
    "\n",
    "# prepare for the fitted curve\n",
    "ch0_u = np.arange(min(ch0_area),max(ch0_area),0.1)\n",
    "ch0_v = round(ch0_popt[0],3) * np.exp(-(ch0_u-round(ch0_popt[1],3))**2 / (2*round(ch0_popt[2],3)**2))\n",
    "\n",
    "plt.figure(figsize=(16,9))\n",
    "plt.title('Histogram of CH0 area, '+str(V)+' V, '+str(T)+'ns, '+str(PDiv)+'dB')\n",
    "plt.xlabel('CH0 area [PE]')\n",
    "plt.ylabel('Counts')\n",
    "plt.hist(ch0_area,bins=200,color='silver',label='CH0 area')\n",
    "plt.plot(ch0_u,ch0_v,color='darkblue',linewidth=3,\n",
    "         label='Fitted curve, $\\mu$ = '+str(round(ch0_popt[1],3))+', $\\sigma$ = '+str(np.abs(round(ch0_popt[2],3))))\n",
    "plt.legend()\n",
    "#plt.savefig('./img/Histogram of CH0 area, '+str(V)+' V, '+str(T)+'ns.png',dpi=300)\n",
    "plt.show()"
   ]
  },
  {
   "cell_type": "markdown",
   "metadata": {},
   "source": [
    "### Ratio Histogram"
   ]
  },
  {
   "cell_type": "code",
   "execution_count": null,
   "metadata": {},
   "outputs": [],
   "source": [
    "# Use numpy.hist() function to calculate histogram data\n",
    "ratio_hist, ratio_bin_edges = np.histogram(area_ratio,bins=200,range=(0,200))\n",
    "ratio_g = ratio_hist\n",
    "ratio_x = (ratio_bin_edges[:-1] + ratio_bin_edges[1:])/2\n",
    "\n",
    "# Define the fitting function\n",
    "def landau_fit(x, A, location, scale):\n",
    "    return A * landau.pdf(x=x, x_mpv=location, xi=scale)\n",
    "\n",
    "# Fit the data\n",
    "ratio_popt, ratio_pcov = curve_fit(landau_fit, ratio_x, ratio_g, p0=[1E5, 30, 5])\n",
    "ratio_perr = np.sqrt(np.diag(ratio_pcov))\n",
    "\n",
    "# Report parameters\n",
    "print('A =', round(ratio_popt[0],3), '+/-', round(ratio_perr[0],3))\n",
    "print('location =', round(ratio_popt[1],3), '+/-', round(ratio_perr[1],3))\n",
    "print('scale =', round(ratio_popt[2],3), '+/-', round(ratio_perr[2],3))\n",
    "\n",
    "# Generate the fitted Landau distribution\n",
    "ratio_u = np.linspace(0,200, 400)\n",
    "ratio_v = landau_fit(ratio_u, ratio_popt[0], ratio_popt[1], ratio_popt[2])\n",
    "\n",
    "plt.figure(figsize=(16,9))\n",
    "plt.title('Histogram of the area ratio, '+str(V)+' V, '+str(T)+'ns, '+str(PDiv)+'dB')\n",
    "plt.xlabel('Area ratio')\n",
    "plt.ylabel('Counts')\n",
    "plt.xlim(0,200)\n",
    "plt.hist(area_ratio,bins=200,range=(0,200),color='silver',label='Histogram')\n",
    "plt.plot(ratio_u, ratio_v, 'r-',color='darkblue',linewidth=3,label='Fitted function, location = '+str(round(ratio_popt[1],1)))\n",
    "plt.legend()\n",
    "plt.savefig('./img/Histogram of the area ratio, '+str(V)+' V, '+str(T)+'ns.png',dpi=300)\n",
    "plt.show()"
   ]
  },
  {
   "cell_type": "markdown",
   "metadata": {},
   "source": [
    "### Generalise "
   ]
  },
  {
   "cell_type": "code",
   "execution_count": null,
   "metadata": {},
   "outputs": [],
   "source": [
    "10**(9/20)"
   ]
  },
  {
   "cell_type": "code",
   "execution_count": null,
   "metadata": {},
   "outputs": [],
   "source": [
    "2.76 # experimental results"
   ]
  },
  {
   "cell_type": "code",
   "execution_count": 168,
   "metadata": {},
   "outputs": [
    {
     "data": {
      "text/plain": [
       "\"\\ndef exp_fit(x,A_0,A,x_0,alpha):\\n    return A_0 - (A * np.exp(-(x-x_0)/alpha))\\n\\ngeneral_popt, general_pcov = curve_fit(exp_fit,general[6:,0],general[6:,2],p0=(40,40,10,150))\\n\\nprint('A_0 =',general_popt[0])\\nprint('A =',general_popt[1])\\nprint('alpha =',general_popt[3])\\n\\ngeneral_fit_x = np.linspace(0,1000,1000)\\ngeneral_fit_y = exp_fit(general_fit_x,general_popt[0],general_popt[1],general_popt[2],general_popt[3])\\n\\nplt.figure(figsize=(16,9))\\nplt.title('Linearity of RELICS PMT base')\\nplt.xscale('log')\\nplt.yscale('log')\\nplt.xlabel('CH0 area [PE]')\\nplt.ylabel('CH1 area [PE]')\\nplt.xlim(10,10000)\\n\\n#plt.scatter(general[:,4],general[:,2])\\n\\nplt.errorbar(general[:,2]*div_ratio[:],general[:,4],xerr=general[:,3]*div_ratio[:],\\n             yerr=general[:,5],fmt='o',ecolor='darkcyan')\\n\\n#plt.plot(general_fit_x,general_fit_y,color='orange',label='Fitted function, limit = '+str(round(general_popt[0],2)))\\n\\n#plt.legend()\\nplt.savefig('./img/area_linear_generalised.png',dpi=300)\\nplt.show()\\n\""
      ]
     },
     "execution_count": 168,
     "metadata": {},
     "output_type": "execute_result"
    }
   ],
   "source": [
    "general = np.genfromtxt('./linear.txt',skip_header=1)\n",
    "\n",
    "div_ratio = []\n",
    "for i in range (0,len(general[:,0])):\n",
    "    if general[i,6]==0:\n",
    "        div_ratio.append(1)\n",
    "    elif general[i,6]==9:\n",
    "        div_ratio.append(2.71656554) # 10**(general[i,6]/20)\n",
    "\n",
    "\"\"\"\n",
    "def exp_fit(x,A_0,A,x_0,alpha):\n",
    "    return A_0 - (A * np.exp(-(x-x_0)/alpha))\n",
    "\n",
    "general_popt, general_pcov = curve_fit(exp_fit,general[6:,0],general[6:,2],p0=(40,40,10,150))\n",
    "\n",
    "print('A_0 =',general_popt[0])\n",
    "print('A =',general_popt[1])\n",
    "print('alpha =',general_popt[3])\n",
    "\n",
    "general_fit_x = np.linspace(0,1000,1000)\n",
    "general_fit_y = exp_fit(general_fit_x,general_popt[0],general_popt[1],general_popt[2],general_popt[3])\n",
    "\n",
    "plt.figure(figsize=(16,9))\n",
    "plt.title('Linearity of RELICS PMT base')\n",
    "plt.xscale('log')\n",
    "plt.yscale('log')\n",
    "plt.xlabel('CH0 area [PE]')\n",
    "plt.ylabel('CH1 area [PE]')\n",
    "plt.xlim(10,10000)\n",
    "\n",
    "#plt.scatter(general[:,4],general[:,2])\n",
    "\n",
    "plt.errorbar(general[:,2]*div_ratio[:],general[:,4],xerr=general[:,3]*div_ratio[:],\n",
    "             yerr=general[:,5],fmt='o',ecolor='darkcyan')\n",
    "\n",
    "#plt.plot(general_fit_x,general_fit_y,color='orange',label='Fitted function, limit = '+str(round(general_popt[0],2)))\n",
    "\n",
    "#plt.legend()\n",
    "plt.savefig('./img/area_linear_generalised.png',dpi=300)\n",
    "plt.show()\n",
    "\"\"\""
   ]
  },
  {
   "cell_type": "code",
   "execution_count": 169,
   "metadata": {},
   "outputs": [
    {
     "data": {
      "image/png": "[encoded data removed]",
      "text/plain": [
       "<Figure size 1600x900 with 1 Axes>"
      ]
     },
     "metadata": {},
     "output_type": "display_data"
    }
   ],
   "source": [
    "general_ratio = general[:,2]*div_ratio[:] / general[:,4]\n",
    "general_ratio_error = general_ratio * np.sqrt((general[:,3]/general[:,2])**2+(general[:,5]/general[:,4])**2)\n",
    "\n",
    "plt.figure(figsize=(16,9))\n",
    "plt.title('Area ratio vs CH0 area')\n",
    "plt.xscale('log')\n",
    "plt.xlabel('CH0 area [PE]')\n",
    "plt.ylabel('Area ratio')\n",
    "plt.xlim(330,10000)\n",
    "plt.ylim(0,100)\n",
    "\n",
    "plt.errorbar(general[:20,2]*div_ratio[:20],general_ratio[:20],xerr=general[:20,3]*div_ratio[:20],yerr=general_ratio_error[:20],\n",
    "             fmt='o',color = 'royalblue',label='0 dB')\n",
    "plt.errorbar(general[21:26,2]*div_ratio[21:26],general_ratio[21:26],xerr=general[21:26,3]*div_ratio[21:26],yerr=general_ratio_error[21:26],\n",
    "             fmt='o',color = 'green',label='20240910, 9 dB')\n",
    "plt.errorbar(general[26:,2]*div_ratio[26:],general_ratio[26:],xerr=general[26:,3]*div_ratio[26:],yerr=general_ratio_error[26:],\n",
    "             fmt='o',color = 'darkorange',label='20240920, 9 dB')\n",
    "plt.hlines(y = 51.27,color = 'red',linestyles='dashed',xmin = 0,xmax = 10000,label='Linear ratio')\n",
    "plt.vlines(x = 1000,ymin = -50,ymax = 170, color = 'cyan',\n",
    "           linestyles='dashed',label='1000 PE limit')\n",
    "\n",
    "plt.legend()\n",
    "plt.savefig('./img/area_ratio_generalised.png',dpi = 300)\n",
    "plt.show()"
   ]
  },
  {
   "cell_type": "code",
   "execution_count": 170,
   "metadata": {},
   "outputs": [
    {
     "data": {
      "image/png": "[encoded data removed]",
      "text/plain": [
       "<Figure size 1600x900 with 1 Axes>"
      ]
     },
     "metadata": {},
     "output_type": "display_data"
    }
   ],
   "source": [
    "dynode = np.genfromtxt('./linear_dynode.txt',skip_header=1)\n",
    "\n",
    "din_ratio = []\n",
    "for i in range (0,len(dynode[:,0])):\n",
    "    if dynode[i,6]==0:\n",
    "        din_ratio.append(1)\n",
    "    elif dynode[i,6]==9:\n",
    "        din_ratio.append(2.71656554) # 10**(general[i,6]/20)\n",
    "\n",
    "dynode_ratio = dynode[:,2]*din_ratio[:] / dynode[:,4]\n",
    "dynode_ratio_error = dynode_ratio * np.sqrt((dynode[:,3]/dynode[:,2])**2+(dynode[:,5]/dynode[:,4])**2)\n",
    "\n",
    "plt.figure(figsize=(16,9))\n",
    "plt.title('Dynode ratio vs CH0 area')\n",
    "plt.xscale('log')\n",
    "plt.xlabel('CH0 area [PE]')\n",
    "plt.ylabel('Dynode ratio')\n",
    "plt.xlim(330,10000)\n",
    "plt.ylim(0,200)\n",
    "\n",
    "plt.errorbar(dynode[9:18,2]*din_ratio[9:18],dynode_ratio[9:18],xerr=dynode[9:18,3]*din_ratio[9:18],yerr=dynode_ratio_error[9:18],\n",
    "             fmt='o',color = 'royalblue',label='0 dB')\n",
    "plt.errorbar(dynode[21:25,2]*din_ratio[21:25],dynode_ratio[21:25],xerr=dynode[21:25,3]*din_ratio[21:25],yerr=dynode_ratio_error[21:25],\n",
    "             fmt='o',color = 'green',label='20240910, 9 dB')\n",
    "plt.errorbar(dynode[25:,2]*din_ratio[25:],dynode_ratio[25:],xerr=dynode[25:,3]*din_ratio[25:],yerr=dynode_ratio_error[25:],\n",
    "             fmt='o',color = 'darkorange',label='20240920, 9 dB')\n",
    "plt.hlines(y = 151.91,color = 'red',linestyles='dashed',xmin = 0,xmax = 10000,label='Dynode ratio')\n",
    "plt.vlines(x = 1000,ymin = -50,ymax = 200, color = 'cyan',\n",
    "           linestyles='dashed',label='1000 PE limit')\n",
    "\n",
    "plt.legend()\n",
    "plt.savefig('./img/dynode_ratio_generalised.png',dpi = 300)\n",
    "plt.show()"
   ]
  }
 ],
 "metadata": {
  "kernelspec": {
   "display_name": "Python 3",
   "language": "python",
   "name": "python3"
  },
  "language_info": {
   "codemirror_mode": {
    "name": "ipython",
    "version": 3
   },
   "file_extension": ".py",
   "mimetype": "text/x-python",
   "name": "python",
   "nbconvert_exporter": "python",
   "pygments_lexer": "ipython3",
   "version": "3.11.9"
  }
 },
 "nbformat": 4,
 "nbformat_minor": 2
}
