{
 "cells": [
  {
   "cell_type": "markdown",
   "metadata": {},
   "source": [
    "### Importing Libraries"
   ]
  },
  {
   "cell_type": "code",
   "execution_count": null,
   "metadata": {
    "vscode": {
     "languageId": "plaintext"
    }
   },
   "outputs": [],
   "source": [
    "import pandas as pd\n",
    "import numpy as np\n",
    "import scipy.signal as signal\n",
    "from scipy.optimize import curve_fit\n",
    "from scipy.special import factorial\n",
    "from landaupy import landau\n",
    "from scipy.special import factorial\n",
    "import matplotlib.pyplot as plt\n",
    "from matplotlib.ticker import NullFormatter\n",
    "from mpl_toolkits.axes_grid1.inset_locator import inset_axes\n",
    "import h5py\n",
    "import array\n",
    "from collections import Counter\n",
    "import daw_readout\n",
    "from matplotlib.colors import LogNorm\n",
    "from tqdm import trange\n",
    "from tqdm import tqdm\n",
    "import time  \n",
    "import os \n",
    "\n",
    "np.set_printoptions(suppress=True) # to make tiny values appear as zero\n",
    "np.set_printoptions(precision=4)   # number of digits in floats (or longfloats)\n",
    "#np.set_printoptions(formatter={'float_kind':\"{:.2f}\"})\n",
    "#np.set_printoptions()\n",
    "\n",
    "%matplotlib inline\n",
    "\n",
    "# Set formats\n",
    "DARK=False\n",
    "if(DARK==False):\n",
    "    form='.k'\n",
    "    plt.style.use(['default']) \n",
    "    fontcolor='k'\n",
    "else:\n",
    "    form='.w'\n",
    "    plt.style.use(['dark_background'])\n",
    "    fontcolor='w'\n",
    "\n",
    "\n",
    "SMALL_SIZE = 18\n",
    "MEDIUM_SIZE = 20\n",
    "BIGGER_SIZE = 22\n",
    "\n",
    "plt.rc('font', size=MEDIUM_SIZE)          # controls default text sizes\n",
    "plt.rc('axes', titlesize=MEDIUM_SIZE)     # fontsize of the axes title\n",
    "plt.rc('axes', labelsize=BIGGER_SIZE)    # fontsize of the x and y labels\n",
    "plt.rc('xtick', labelsize=SMALL_SIZE)    # fontsize of the tick labels\n",
    "plt.rc('ytick', labelsize=SMALL_SIZE)    # fontsize of the tick labels\n",
    "plt.rc('legend', fontsize=SMALL_SIZE)    # legend fontsize\n",
    "plt.rc('figure', titlesize=BIGGER_SIZE)  # fontsize of the figure title\n",
    "\n",
    "params = {\n",
    "    'font.family': 'serif',\n",
    "    'font.size' : 16, 'axes.titlesize' : 16, 'axes.labelsize' : 16, 'axes.linewidth' : 1,\n",
    "    # ticks\n",
    "    'xtick.labelsize' : 16, 'ytick.labelsize' : 16, 'xtick.major.size' : 8, 'xtick.minor.size' : 4,\n",
    "    'ytick.major.size' : 8, 'ytick.minor.size' : 4, 'xtick.major.width' : 1, 'xtick.minor.width' : 1,\n",
    "    'ytick.major.width' : 1, 'ytick.minor.width' : 1, 'xtick.direction' : 'in', 'ytick.direction' : 'in',\n",
    "    # markers\n",
    "    'lines.markersize' : 4, 'lines.markeredgewidth' : 1, 'errorbar.capsize' : 5, 'lines.linewidth' : 1.5,\n",
    "    #'lines.linestyle' : None, 'lines.marker' : None,\n",
    "    'savefig.bbox' : 'tight', 'legend.fontsize' : 16,\n",
    "    'axes.labelsize': 16, 'axes.titlesize':20, 'xtick.labelsize':16, 'ytick.labelsize':16,\n",
    "    'backend': 'Agg', 'mathtext.fontset': 'dejavuserif',\n",
    "    'figure.facecolor':'w',\n",
    "    #pad\n",
    "    'axes.labelpad':8,\n",
    "    # ticks\n",
    "    'xtick.major.pad': 7,   'xtick.minor.pad': 7,   \n",
    "    'ytick.major.pad': 4, 'ytick.minor.pad': 4,\n",
    "}\n",
    "plt.rcParams.update(params)"
   ]
  },
  {
   "cell_type": "markdown",
   "metadata": {},
   "source": [
    "### Processing Data"
   ]
  },
  {
   "cell_type": "code",
   "execution_count": null,
   "metadata": {
    "vscode": {
     "languageId": "plaintext"
    }
   },
   "outputs": [],
   "source": []
  }
 ],
 "metadata": {
  "language_info": {
   "name": "python"
  }
 },
 "nbformat": 4,
 "nbformat_minor": 2
}
